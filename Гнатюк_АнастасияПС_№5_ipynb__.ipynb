{
  "cells": [
    {
      "cell_type": "markdown",
      "metadata": {
        "id": "WaS_15-Z_B8k"
      },
      "source": [
        "## Импорты"
      ]
    },
    {
      "cell_type": "code",
      "execution_count": 3,
      "metadata": {
        "id": "WXUiEfoy9Rk4"
      },
      "outputs": [],
      "source": [
        "import requests\n",
        "from bs4 import BeautifulSoup"
      ]
    },
    {
      "cell_type": "code",
      "source": [
        "Headers = {\n",
        "\"accept\": \"text/html,application/xhtml+xml,application/xml;q=0.9,image/avif,image/webp,image/apng,*/*;q=0.8,application/signed-exchange;v=b3;q=0.9\",\n",
        "\"user-agent\": \"Mozilla/5.0 (Windows NT 10.0; Win64; x64) AppleWebKit/537.36 (KHTML, like Gecko) Chrome/108.0.0.0 Safari/537.36\"\n",
        "}"
      ],
      "metadata": {
        "id": "YpGl5iH8HfjW"
      },
      "execution_count": 4,
      "outputs": []
    },
    {
      "cell_type": "code",
      "source": [
        "url = \"https://donstu.ru/structure/science-education/\"\n",
        "host=\"https://donstu.ru/\"\n",
        "request=requests.get(url)\n",
        "soup =BeautifulSoup(request.text, \"html.parser\")\n",
        "def get_html(url):\n",
        "  r=requests.get(url,headers=Headers)\n",
        "  return r\n",
        "def get_content(html):\n",
        "  soup =BeautifulSoup(html, \"html.parser\")\n",
        "  items = soup.find_all(\"div\",class_=\"faculty-block\")\n",
        " \n",
        "  cards =[]\n",
        "\n",
        "  for item in items:\n",
        "    cards.append(\n",
        "       \n",
        "         host+item.find(\"div\",class_=\"title\").find(\"a\").get(\"href\")      \n",
        "    )\n",
        "  return cards\n",
        "  print()\n",
        "\n",
        "html = get_html(url)\n",
        "name=soup.find(\"div\",class_=\"text\").text\n",
        "print(\"Описание:\" + name)\n",
        "faculties=soup.find_all(\"div\",class_=\"title\")\n",
        "for facultie in faculties :\n",
        "    facultie =facultie.find(\"a\")\n",
        "    decan=soup.find(\"div\",class_=\"name\").text\n",
        "    if facultie !=None:\n",
        "        print(\"Факультет: \" + facultie.text,decan ,sep=\"\\n\")\n",
        "        print(\"-\"*70)\n",
        "print(get_content(html.text))     "
      ],
      "metadata": {
        "id": "R0apCLJbF-sL",
        "colab": {
          "base_uri": "https://localhost:8080/"
        },
        "outputId": "4482834d-176a-4cd6-eaa1-2fe19166476c"
      },
      "execution_count": 30,
      "outputs": [
        {
          "output_type": "stream",
          "name": "stdout",
          "text": [
            "Описание:Донской государственный технический университет занимает особое место в образовательном пространстве Юга России. На данный момент здесь получают образование свыше 36 тысяч студентов. Многоуровневая подготовка ведется более чем по 100 направлениям бакалавриата, специалитета, магистратуры. \n",
            "Факультет: Авиастроение\n",
            "Зимовнов Олег Владимирович\n",
            "----------------------------------------------------------------------\n",
            "Факультет: Автоматизация, мехатроника и управление\n",
            "Зимовнов Олег Владимирович\n",
            "----------------------------------------------------------------------\n",
            "Факультет: Агропромышленный\n",
            "Зимовнов Олег Владимирович\n",
            "----------------------------------------------------------------------\n",
            "Факультет: Безопасность жизнедеятельности и инженерная экология\n",
            "Зимовнов Олег Владимирович\n",
            "----------------------------------------------------------------------\n",
            "Факультет: Биоинженерия и ветеринарная медицина\n",
            "Зимовнов Олег Владимирович\n",
            "----------------------------------------------------------------------\n",
            "Факультет: Дорожно-транспортный\n",
            "Зимовнов Олег Владимирович\n",
            "----------------------------------------------------------------------\n",
            "Факультет: Инженерно-строительный\n",
            "Зимовнов Олег Владимирович\n",
            "----------------------------------------------------------------------\n",
            "Факультет: Инновационный бизнес и менеджмент\n",
            "Зимовнов Олег Владимирович\n",
            "----------------------------------------------------------------------\n",
            "Факультет: Институт опережающих технологий «Школа Икс»\n",
            "Зимовнов Олег Владимирович\n",
            "----------------------------------------------------------------------\n",
            "Факультет: Институт физической культуры и спорта\n",
            "Зимовнов Олег Владимирович\n",
            "----------------------------------------------------------------------\n",
            "Факультет: Информатика и вычислительная техника\n",
            "Зимовнов Олег Владимирович\n",
            "----------------------------------------------------------------------\n",
            "Факультет: Кораблестроение и морская техника\n",
            "Зимовнов Олег Владимирович\n",
            "----------------------------------------------------------------------\n",
            "Факультет: Медиакоммуникации и мультимедийные технологии\n",
            "Зимовнов Олег Владимирович\n",
            "----------------------------------------------------------------------\n",
            "Факультет: Международный\n",
            "Зимовнов Олег Владимирович\n",
            "----------------------------------------------------------------------\n",
            "Факультет: Прикладная лингвистика\n",
            "Зимовнов Олег Владимирович\n",
            "----------------------------------------------------------------------\n",
            "Факультет: Промышленное и гражданское строительство\n",
            "Зимовнов Олег Владимирович\n",
            "----------------------------------------------------------------------\n",
            "Факультет: Психология, педагогика и дефектология\n",
            "Зимовнов Олег Владимирович\n",
            "----------------------------------------------------------------------\n",
            "Факультет: Сервис и туризм\n",
            "Зимовнов Олег Владимирович\n",
            "----------------------------------------------------------------------\n",
            "Факультет: Социально-гуманитарный\n",
            "Зимовнов Олег Владимирович\n",
            "----------------------------------------------------------------------\n",
            "Факультет: Технология машиностроения\n",
            "Зимовнов Олег Владимирович\n",
            "----------------------------------------------------------------------\n",
            "Факультет: Транспорт, сервис и эксплуатация\n",
            "Зимовнов Олег Владимирович\n",
            "----------------------------------------------------------------------\n",
            "Факультет: Школа архитектуры, дизайна и искусств\n",
            "Зимовнов Олег Владимирович\n",
            "----------------------------------------------------------------------\n",
            "Факультет: Энергетика и нефтегазопромышленность\n",
            "Зимовнов Олег Владимирович\n",
            "----------------------------------------------------------------------\n",
            "Факультет: Юридический\n",
            "Зимовнов Олег Владимирович\n",
            "----------------------------------------------------------------------\n",
            "['https://donstu.ru//structure/science-education/aviastroenie/', 'https://donstu.ru//structure/science-education/avtomatizatsiya-mekhatronika-i-upravlenie/', 'https://donstu.ru//structure/science-education/agropromyshlennyy/', 'https://donstu.ru//structure/science-education/bezopasnost-zhiznedeyatelnosti-i-inzhenernaya-ekologiya/', 'https://donstu.ru//structure/science-education/bioinzheneriya-i-veterinarnaya-meditsina/', 'https://donstu.ru//structure/science-education/dorozhno-transportnyy/', 'https://donstu.ru//structure/science-education/inzhenerno-stroitelnyy/', 'https://donstu.ru//structure/science-education/innovatsionnyy-biznes-i-menedzhment/', 'https://donstu.ru//structure/science-education/institut-operezhayushchikh-tekhnologiy-shkola-iks/', 'https://donstu.ru//structure/science-education/fizicheskaya-kultura-sport-i-turizm/', 'https://donstu.ru//structure/science-education/informatika-i-vychislitelnaya-tekhnika/', 'https://donstu.ru//structure/science-education/korablestroenie-i-morskaya-tekhnika/', 'https://donstu.ru//structure/science-education/mediakommunikatsii-i-multimediynye-tekhnologii/', 'https://donstu.ru//structure/science-education/mezhdunarodnyy/', 'https://donstu.ru//structure/science-education/prikladnaya-lingvistika/', 'https://donstu.ru//structure/science-education/promyshlennoe-i-grazhdanskoe-stroitelstvo/', 'https://donstu.ru//structure/science-education/psikhologiya-pedagogika-i-defektologiya/', 'https://donstu.ru//structure/science-education/pravo-servis-i-turizm/', 'https://donstu.ru//structure/science-education/sotsialno-gumanitarnyy/', 'https://donstu.ru//structure/science-education/tekhnologiya-mashinostroeniya/', 'https://donstu.ru//structure/science-education/transport-servis-i-ekspluatatsiya/', 'https://donstu.ru//structure/science-education/shkola-arkhitektury-dizayna-i-iskusstv/', 'https://donstu.ru//structure/science-education/energetika-i-sistemy-kommunikatsiy/', 'https://donstu.ru//structure/science-education/yuridicheskiy/']\n"
          ]
        }
      ]
    }
  ],
  "metadata": {
    "colab": {
      "provenance": []
    },
    "kernelspec": {
      "display_name": "Python 3",
      "name": "python3"
    },
    "language_info": {
      "name": "python"
    }
  },
  "nbformat": 4,
  "nbformat_minor": 0
}